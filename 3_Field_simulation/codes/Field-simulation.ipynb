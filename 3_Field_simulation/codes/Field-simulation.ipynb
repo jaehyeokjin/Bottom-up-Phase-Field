{
 "cells": [
  {
   "cell_type": "markdown",
   "id": "56a8332c",
   "metadata": {},
   "source": [
    "# Introduction"
   ]
  },
  {
   "cell_type": "markdown",
   "id": "fde6882f",
   "metadata": {},
   "source": [
    "* Phase-Field Simulation: 2D Evolution with Coarse-Grained Hamiltonian\n",
    "* This notebook implements a 2D phase-field model to simulate the evolution of a system based on a free energy functional. The simulation is initialized with a tanh profile and evolves over time based on specific parameters. We will first import the required libraries and define important physical parameters for our model."
   ]
  },
  {
   "cell_type": "markdown",
   "id": "1d01fb20",
   "metadata": {},
   "source": [
    "# 1: Imports and Setup"
   ]
  },
  {
   "cell_type": "code",
   "execution_count": null,
   "id": "4f918428",
   "metadata": {},
   "outputs": [],
   "source": [
    "# Import necessary libraries\n",
    "import numpy as np                      # Numerical computations and array manipulations\n",
    "import matplotlib.pyplot as plt          # Plotting library\n",
    "from mpl_toolkits.mplot3d import Axes3D  # 3D plotting capabilities\n",
    "from matplotlib import animation         # Animation tools for visualizing the results\n",
    "from matplotlib.font_manager import FontProperties # Controls font properties for plot texts\n",
    "\n",
    "import os                                # Interacts with the operating system (for directory creation)\n",
    "import math                              # Standard library for mathematical operations\n",
    "from scipy.interpolate import InterpolatedUnivariateSpline as uvs # Spline interpolation for smooth curve fitting\n",
    "\n",
    "# Create a directory to store snapshots if it doesn't already exist\n",
    "snapshot_dir = 'snapshots'\n",
    "os.makedirs(snapshot_dir, exist_ok=True)  # Ensures the folder for saving snapshots is created\n",
    "\n",
    "# Define font properties for plot labels and titles\n",
    "prop = FontProperties(size=14)\n"
   ]
  },
  {
   "cell_type": "markdown",
   "id": "eb73851c",
   "metadata": {},
   "source": [
    "# 2: Defining Grid and Simulation Parameters"
   ]
  },
  {
   "cell_type": "markdown",
   "id": "1728012b",
   "metadata": {},
   "source": [
    "* Defining the Grid and Simulation Parameters\n",
    "* In this step, we define the computational grid size and other physical parameters that control the evolution of the phase field. These parameters include the size of the domain, interfacial thickness, mobility, and other constants related to the free energy functional.\n"
   ]
  },
  {
   "cell_type": "code",
   "execution_count": null,
   "id": "12eb3cce",
   "metadata": {},
   "outputs": [],
   "source": [
    "# Define grid size and the thickness of the initial region in the center\n",
    "nx, ny = 130, 60      # Grid dimensions in x and y directions\n",
    "thickness = 65        # Centered region thickness\n",
    "\n",
    "# Shift the boundary for tanh decay computation (decays outward from the centered region)\n",
    "shift = 5             # Shifts boundaries inward by 5 units on both sides\n",
    "\n",
    "# Define grid spacing [m]\n",
    "dx, dy = 0.5e-6, 0.5e-6   # Spatial resolution in x and y directions\n",
    "\n",
    "# Physical parameters for phase-field modeling\n",
    "eee = -1.0*7.699448E+04    # Driving force for growth of phase B: g_A - g_B [J/m^3]\n",
    "www = 13.37131577 * abs(eee) # A parameter proportional to the absolute value of `eee`\n",
    "\n",
    "# Interface properties\n",
    "delta = 4. * dx            # Interfacial thickness [m]\n",
    "amobi = 1.e-6              # Interfacial mobility [m^4/(Js)]\n",
    "ram = 0.1                  # Parameter determining the interfacial area or width\n",
    "bbb = 2. * np.log((1. + (1. - 2. * ram)) / (1. - (1. - 2. * ram))) / 2.  # Constant `b` = 2.1972\n",
    "\n",
    "# Energy-related coefficients\n",
    "sigma = delta * www / (6 * bbb)  # Surface tension coefficient\n",
    "aaa = np.sqrt(3. * delta * sigma / bbb)  # Gradient energy coefficient `a` [(J/m)^(1/2)]\n",
    "\n",
    "# Phase-field mobility coefficient\n",
    "pmobi = amobi * math.sqrt(2. * www) / (6. * aaa)  # Mobility of phase-field [m^3/(Js)]\n"
   ]
  },
  {
   "cell_type": "markdown",
   "id": "4993bcb2",
   "metadata": {},
   "source": [
    "# 3. Free Energy Functions"
   ]
  },
  {
   "cell_type": "markdown",
   "id": "43eeeeb2",
   "metadata": {},
   "source": [
    "* Defining Free Energy Functions\n",
    "* The phase-field model evolves based on the free energy functional. In this step, we define the free energy derivatives (f_dot and g_dot), which are crucial for the evolution of the phase-field variable. These are polynomial approximations based on the specific physical system we are simulating.\n"
   ]
  },
  {
   "cell_type": "code",
   "execution_count": null,
   "id": "2a44b9c2",
   "metadata": {},
   "outputs": [],
   "source": [
    "# Functions defining the free energy derivatives (f_dot and g_dot)\n",
    "\n",
    "# Polynomial function to compute f'(x) (related to the free energy derivative with respect to phase variable)\n",
    "def f_dot(x):\n",
    "    # Coefficients for a polynomial approximation of f'(x)\n",
    "    value = x**2 * (x - 1)**2 * (406.096365931681 * x**2 - 312.054265569108 * x + 69.9995996612168)\n",
    "    return value\n",
    "\n",
    "# Polynomial function to compute g'(x) (related to the free energy derivative with respect to composition)\n",
    "def g_dot(x):\n",
    "    # Coefficients for a polynomial approximation of g'(x)\n",
    "    value_2 = x * (92.035982494651 * x**4 - 212.328865871469 * x**3 + 166.230498138655 * x**2 - 51.2257536286395 * x + 5.28813886680301)\n",
    "    return value_2"
   ]
  },
  {
   "cell_type": "markdown",
   "id": "ee62dd38",
   "metadata": {},
   "source": [
    "# 4. Time Step and Initialization"
   ]
  },
  {
   "cell_type": "markdown",
   "id": "b41bd9c7",
   "metadata": {},
   "source": [
    "* Time Step and Initialization of the Phase Field\n",
    "* Now, we calculate the time step (`dt`) based on the physical parameters. We initialize the phase-field variable `p`, which will be evolved over time. The initialization is based on a `tanh` profile, which defines the initial phase distribution in the grid.\n"
   ]
  },
  {
   "cell_type": "code",
   "execution_count": null,
   "id": "10f3adaf",
   "metadata": {},
   "outputs": [],
   "source": [
    "# Time step calculation\n",
    "dt = dx * dx / (5. * pmobi * aaa * aaa) / 2  # Time increment for each time step [s]\n",
    "nsteps = 2001                                # Total number of time steps in the simulation\n",
    "\n",
    "# Initialize the phase-field array p with zeros (nsteps x nx x ny grid)\n",
    "p = np.zeros((nsteps, nx, ny))  # Phase-field variable initialized as a zero array\n",
    "\n",
    "# Center the initial phase-field setup in the x-direction\n",
    "x_center_start = (nx - thickness) // 2   # Starting point for the centered region\n",
    "x_center_end = x_center_start + thickness # End point for the centered region\n",
    "\n",
    "# Adjusted boundaries (shift inward by `shift` units)\n",
    "left_boundary = x_center_start + shift    # Left boundary shifted inward\n",
    "right_boundary = x_center_end - shift     # Right boundary shifted inward\n",
    "\n",
    "# Initialize phase-field values based on a tanh profile (decaying outward from the centered region)\n",
    "for i in range(nx):\n",
    "    for j in range(ny):\n",
    "        # Calculate radial distance for decay effect around the central band\n",
    "        if left_boundary <= i <= right_boundary:\n",
    "            r = -1.0 * shift * dx  # Inside the shifted central band, no decay\n",
    "        else:\n",
    "            if i < left_boundary:\n",
    "                r = (x_center_start - i) * dx  # Distance from the left edge\n",
    "            else:\n",
    "                r = (i - x_center_end) * dx    # Distance from the right edge\n",
    "        # Initialize phase field with a tanh profile that decays outside the shifted central band\n",
    "        p[0, i, j] = 0.5 * (1. - np.tanh(np.sqrt(2. * www) / (2. * aaa) * r))\n"
   ]
  },
  {
   "cell_type": "markdown",
   "id": "8a2ee140",
   "metadata": {},
   "source": [
    "# 5. Evolution of the Phase Field"
   ]
  },
  {
   "cell_type": "markdown",
   "id": "0ef6e56c",
   "metadata": {},
   "source": [
    "* Evolution of the Phase Field Over Time\n",
    "* This function, `do_timestep`, evolves the phase-field variable over time using a finite-difference scheme. It updates the field by computing the change based on the free energy functional and the mobility. The grid values are updated iteratively for each time step.\n"
   ]
  },
  {
   "cell_type": "code",
   "execution_count": null,
   "id": "1bb9d272",
   "metadata": {},
   "outputs": [],
   "source": [
    "# Function to evolve the phase-field over time using a finite-difference scheme\n",
    "def do_timestep(p):\n",
    "    for t in range(nsteps - 1):  # Loop over time steps\n",
    "        for j in range(ny):\n",
    "            for i in range(nx):\n",
    "                # Neighboring indices with boundary conditions (clamped)\n",
    "                ip = min(i + 1, nx - 1)\n",
    "                im = max(i - 1, 0)\n",
    "                jp = min(j + 1, ny - 1)\n",
    "                jm = max(j - 1, 0)\n",
    "                \n",
    "                # Update phase-field value at each point using the mobility, free energy, and finite difference approximations\n",
    "                p[t + 1, i, j] = p[t, i, j] + pmobi * (\n",
    "                    -1.0 * f_dot(p[t, i, j]) * eee - g_dot(p[t, i, j]) * www +\n",
    "                    aaa * aaa * ((p[t, ip, j] - 2 * p[t, i, j] + p[t, im, j]) / dx / dx +\n",
    "                                (p[t, i, jp] - 2 * p[t, i, j] + p[t, i, jm]) / dy / dy)\n",
    "                ) * dt\n",
    "\n",
    "# Call the timestep function to evolve the system\n",
    "do_timestep(p)\n"
   ]
  },
  {
   "cell_type": "markdown",
   "id": "c8070925",
   "metadata": {},
   "source": [
    "# 6. Visualizing the Results"
   ]
  },
  {
   "cell_type": "markdown",
   "id": "d69419e1",
   "metadata": {},
   "source": [
    "* Visualizing the Phase-Field Evolution\n",
    "* Now that the phase-field has evolved, we will visualize the 3D surface plot of the phase field over time. We use Matplotlib's 3D plotting functions to display the surface of the phase field, and `FuncAnimation` will create an animation of the evolving system.\n"
   ]
  },
  {
   "cell_type": "code",
   "execution_count": null,
   "id": "7cf4c0f3",
   "metadata": {},
   "outputs": [],
   "source": [
    "# Set up meshgrid for plotting\n",
    "x = np.arange(nx)\n",
    "y = np.arange(ny)\n",
    "X, Y = np.meshgrid(y, x)\n",
    "\n",
    "# Initialize figure for 3D plotting\n",
    "fig = plt.figure(figsize=(12, 8), dpi=100)\n",
    "ax = fig.add_subplot(111, projection='3d')\n",
    "\n",
    "# Define the animation function to visualize the results\n",
    "def animate(i):\n",
    "    if i % 100 == 0:  # Save snapshots every 100 frames\n",
    "        ax.clear()  # Clear the current axes\n",
    "        ax.set_ylim([0, nx])\n",
    "        ax.set_xlim([0, ny])\n",
    "        ax.set_title('Phase-field Evolution', fontproperties=prop)  # Add title\n",
    "        \n",
    "        # Plot the surface of the phase-field data\n",
    "        ax.plot_surface(X, Y, p[i, :, :], rstride=1, cstride=1, cmap=plt.cm.coolwarm, vmax=1, vmin=0)\n",
    "        ax.set_zlim(0, 1)  # Set limits for the z-axis\n",
    "        ax.view_init(18, -54, 0)  # Adjust the viewing angle of the 3D plot\n",
    "        ax.set_box_aspect([ny/nx, 1, 0.5])  # Adjust aspect ratio\n",
    "        plt.savefig(f'{snapshot_dir}/snapshot_step_{i:04d}.pdf', format='pdf')  # Save snapshots as PDFs\n",
    "\n",
    "# Create the animation object\n",
    "anim = animation.FuncAnimation(fig, animate, frames=nsteps - 1, interval=10, repeat=False)\n",
    "\n",
    "# Show the final plot\n",
    "plt.show()"
   ]
  }
 ],
 "metadata": {
  "kernelspec": {
   "display_name": "Python 3 (ipykernel)",
   "language": "python",
   "name": "python3"
  },
  "language_info": {
   "codemirror_mode": {
    "name": "ipython",
    "version": 3
   },
   "file_extension": ".py",
   "mimetype": "text/x-python",
   "name": "python",
   "nbconvert_exporter": "python",
   "pygments_lexer": "ipython3",
   "version": "3.9.12"
  }
 },
 "nbformat": 4,
 "nbformat_minor": 5
}
